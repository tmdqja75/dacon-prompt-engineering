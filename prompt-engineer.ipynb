{
 "cells": [
  {
   "cell_type": "code",
   "execution_count": 5,
   "id": "2370d50b",
   "metadata": {},
   "outputs": [
    {
     "data": {
      "text/plain": [
       "True"
      ]
     },
     "execution_count": 5,
     "metadata": {},
     "output_type": "execute_result"
    }
   ],
   "source": [
    "import os\n",
    "import pandas as pd\n",
    "import dspy\n",
    "from dotenv import load_dotenv\n",
    "load_dotenv()"
   ]
  },
  {
   "cell_type": "markdown",
   "id": "3bc8d924",
   "metadata": {},
   "source": [
    "## LLM 설정"
   ]
  },
  {
   "cell_type": "code",
   "execution_count": 6,
   "id": "4ac3fd38",
   "metadata": {},
   "outputs": [],
   "source": [
    "lm = dspy.LM('openai/gpt-4o-mini', temperature=0.4, api_key=os.getenv(\"OPENAI_API_KEY\"))\n",
    "dspy.configure(lm=lm)"
   ]
  },
  {
   "cell_type": "markdown",
   "id": "30b37bfc",
   "metadata": {},
   "source": [
    "## Data 불러오기"
   ]
  },
  {
   "cell_type": "code",
   "execution_count": null,
   "id": "5b72a00a",
   "metadata": {},
   "outputs": [],
   "source": [
    "import pandas as pd\n",
    "\n",
    "df_data = "
   ]
  }
 ],
 "metadata": {
  "kernelspec": {
   "display_name": "dacon-prompt-engineering",
   "language": "python",
   "name": "python3"
  },
  "language_info": {
   "codemirror_mode": {
    "name": "ipython",
    "version": 3
   },
   "file_extension": ".py",
   "mimetype": "text/x-python",
   "name": "python",
   "nbconvert_exporter": "python",
   "pygments_lexer": "ipython3",
   "version": "3.12.1"
  }
 },
 "nbformat": 4,
 "nbformat_minor": 5
}
